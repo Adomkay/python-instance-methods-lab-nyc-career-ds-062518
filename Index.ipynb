{
 "cells": [
  {
   "cell_type": "markdown",
   "metadata": {},
   "source": [
    "# Practice with Instance Methods"
   ]
  },
  {
   "cell_type": "markdown",
   "metadata": {},
   "source": [
    "## Introduction\n",
    "In the last lesson, we talked about what are instance methods. In this lab, we are going to put our new skills to the test and start writing our own instance methods on our classes."
   ]
  },
  {
   "cell_type": "markdown",
   "metadata": {},
   "source": [
    "## Objectives\n",
    "\n",
    "* Practice defining classes and instantiating instances of those classes\n",
    "* Practice deinfing instance methods and calling them"
   ]
  },
  {
   "cell_type": "markdown",
   "metadata": {},
   "source": [
    "## Defining Classes and Instance Methods"
   ]
  },
  {
   "cell_type": "markdown",
   "metadata": {},
   "source": [
    "In this section, define two classes, `Driver`, `Passenger`. \n",
    "\n",
    "In the `Driver` class, define the instance method `greeting` that returns the string `\"Hey, how are you?\"`. Then define the method `ask_for_destination`, which returns the string `\"Where would you like to go today?\"`. \n",
    "\n",
    "In the `Passenger` class, define the instance method `reply_greeting` that returns the string `\"I am doing well! Thanks for picking me up today!\"`. Then define the method `in_a_hurry`, which returns the string `\"Punch it! They're on our tail!\"`. \n",
    "\n",
    "Again, we have both a driver.py and passenger.py file included in our directoy. Use these files to define your classes and instance methods."
   ]
  },
  {
   "cell_type": "markdown",
   "metadata": {},
   "source": [
    "> **Note:** the next cell is loading an extension, `autoreload`, from IPython. This tool simply reimports our code right before we execute any python (i.e. run a cell with Python code). This ensures that any update we make in our other files, passenger.py & driver.py, will be reflected in the juypter notebook. Don't worry about autoreload for now, just run the cell once and forget about it. "
   ]
  },
  {
   "cell_type": "code",
   "execution_count": 16,
   "metadata": {},
   "outputs": [
    {
     "name": "stdout",
     "output_type": "stream",
     "text": [
      "The autoreload extension is already loaded. To reload it, use:\n",
      "  %reload_ext autoreload\n"
     ]
    }
   ],
   "source": [
    "%load_ext autoreload\n",
    "%autoreload 2"
   ]
  },
  {
   "cell_type": "code",
   "execution_count": 17,
   "metadata": {},
   "outputs": [],
   "source": [
    "from passenger import Passenger"
   ]
  },
  {
   "cell_type": "code",
   "execution_count": 18,
   "metadata": {},
   "outputs": [],
   "source": [
    "from driver import Driver"
   ]
  },
  {
   "cell_type": "markdown",
   "metadata": {},
   "source": [
    "## Instantiate Instances and Practice Using Instance Methods\n",
    "Great! We've defined our classes and our instance methods. Now, in this section we are going to actually use them!\n",
    "\n",
    "Start by instantiating two drivers and two passengers. Assign the drivers to the variables `daniel` and `meryl` and assign the passengers to `niky` and `terrance`."
   ]
  },
  {
   "cell_type": "code",
   "execution_count": 19,
   "metadata": {},
   "outputs": [],
   "source": [
    "# daniel = None # driver\n",
    "# meryl = None # driver\n",
    "# niky = None # passenger\n",
    "# terrance = None # passenger\n",
    "daniel = Driver()\n",
    "meryl = Driver()\n",
    "niky = Passenger()\n",
    "terrance = Passenger()"
   ]
  },
  {
   "cell_type": "markdown",
   "metadata": {},
   "source": [
    "Alright, we have our passengers and drivers! Now we need to put those instance methods to use. Let's try them out below. Let's assign the return values to variables too. Let's have `daniel` greet his passenger, who is going to me `niky`. Assign the greeting to the variable, `polite_greeting`. Have `niky` respond by calling `in_a_hurry`, and assign the return value to the variable, `no_time_to_talk`."
   ]
  },
  {
   "cell_type": "code",
   "execution_count": 20,
   "metadata": {},
   "outputs": [
    {
     "name": "stdout",
     "output_type": "stream",
     "text": [
      "Hey, how are you?\n"
     ]
    }
   ],
   "source": [
    "polite_greeting = daniel.greeting()\n",
    "print(polite_greeting)"
   ]
  },
  {
   "cell_type": "code",
   "execution_count": 21,
   "metadata": {},
   "outputs": [
    {
     "name": "stdout",
     "output_type": "stream",
     "text": [
      "Punch it! They're on our tail!\n"
     ]
    }
   ],
   "source": [
    "no_time_to_talk = niky.in_a_hurry()\n",
    "print(no_time_to_talk)"
   ]
  },
  {
   "cell_type": "markdown",
   "metadata": {},
   "source": [
    "## Summary\n",
    "In this lab, we practiced defining classes and instance methods. We then instantiated instances of our classes and used them to practice calling our instance methods. "
   ]
  }
 ],
 "metadata": {
  "kernelspec": {
   "display_name": "Python 3",
   "language": "python",
   "name": "python3"
  },
  "language_info": {
   "codemirror_mode": {
    "name": "ipython",
    "version": 3
   },
   "file_extension": ".py",
   "mimetype": "text/x-python",
   "name": "python",
   "nbconvert_exporter": "python",
   "pygments_lexer": "ipython3",
   "version": "3.6.5"
  }
 },
 "nbformat": 4,
 "nbformat_minor": 2
}
